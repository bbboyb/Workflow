{
 "cells": [
  {
   "cell_type": "markdown",
   "metadata": {},
   "source": [
    "# Workflow - Sandbox Zenodo\n",
    "\n",
    "\n",
    "En esta práctica vamos a aplicar lo aprendido en esta asignatura para crear un flujo que automatice la descarga, análisis y publicación de los datos utilizando distintas herramientas como Zenodo, github y librerías de python para el análisis de datos.\n",
    "\n",
    "Para ello, utilizaremos la versión de _testing_ de Zenodo (https://sandbox.zenodo.org/) para evitar problemas de baneo de IPs. También, GitHub para almacenar código que ejecutaremos de forma automática.\n",
    "\n",
    "Antes de empezar, selecciona un dataset sencillo y un script básico que sea capaz de procesar ese dataset. Por ejemplo: Un CSV y un script que haga un plot con los datos y lo guarde como imagen. Puedes coger algo de alguna práctica de otra asignatura.\n",
    "\n",
    "### Librerías necesarias para la práctica\n",
    "\n",
    "```python\n",
    "import xml.etree.ElementTree as ET\n",
    "import requests\n",
    "import json\n",
    "import zipfile\n",
    "```\n",
    "\n",
    "### Elementos necesarios\n",
    "* Al menos un fichero CSV\n",
    "* Un script de análisis de datos en CSV (Publicado en Github)\n"
   ]
  },
  {
   "cell_type": "markdown",
   "metadata": {},
   "source": [
    "# Publicación de datos iniciales\n",
    "\n",
    "Utilizando Zenodo (https://sandbox.zenodo.org/), de forma manual, publicar los datos que se vayan a utilizar. En la página principal, una vez logueado (te tendrás que registrar, mejor utilizando tu login de GitHub), en el símbolo +, New upload. Rellena los campos y publica.\n",
    "\n",
    "<div class=\"alert alert-warning\" role=\"alert\" style=\"margin: 10px\">\n",
    "<p>Utilizar Communities para localizar más facilmente los datos</p>\n",
    "</div>\n",
    "\n",
    "Haz un print del DOI que te da al subir el dataset.\n"
   ]
  },
  {
   "cell_type": "code",
   "execution_count": 1,
   "metadata": {},
   "outputs": [
    {
     "name": "stdout",
     "output_type": "stream",
     "text": [
      "10.5072/zenodo.150045\n"
     ]
    }
   ],
   "source": [
    "print(\"10.5072/zenodo.150045\")"
   ]
  },
  {
   "cell_type": "markdown",
   "metadata": {},
   "source": [
    "# Publicación de script de Análisis\n",
    "\n",
    "Selecciona el script sencillo de análisis que sea capaz de procesar el dataset que has subido. Guardalo en GitHub.\n",
    "\n",
    "Desde tu perfil de usuario en Zenodo (SandBox), selecciona la opción GitHub. Si no lo tienes ya, necesitarás conectar tu usuario de GitHub. Desde allí, te indica cómo puedes generar un objeto digital con su DOI de un repositorio de Github. Entre otras cosas, te lleva a crear una \"release\" de tu código. Una vez está todo, obtendrás un DOI de ese repo. Muéstralo debajo."
   ]
  },
  {
   "cell_type": "code",
   "execution_count": 38,
   "metadata": {},
   "outputs": [
    {
     "name": "stdout",
     "output_type": "stream",
     "text": [
      "10.5072/zenodo.161468\n"
     ]
    }
   ],
   "source": [
    "print(\"10.5072/zenodo.161468\")"
   ]
  },
  {
   "cell_type": "markdown",
   "metadata": {},
   "source": [
    "# Descarga de datos\n",
    "\n",
    "Desde el SANDBOX de Zenodo, utilizando los métodos conocidos (OAI-PMH, API)\n",
    "\n",
    "Pista: url+'?verb=ListRecords&set=nombre_set"
   ]
  },
  {
   "cell_type": "code",
   "execution_count": 1,
   "metadata": {},
   "outputs": [],
   "source": [
    "import requests\n",
    "import json\n",
    "import csv\n",
    "from datetime import datetime\n",
    "import xml.etree.cElementTree as ET"
   ]
  },
  {
   "cell_type": "markdown",
   "metadata": {},
   "source": [
    "Un par de funciones para búsqueda"
   ]
  },
  {
   "cell_type": "code",
   "execution_count": 13,
   "metadata": {},
   "outputs": [],
   "source": [
    "def search_dataset(url,oai_set,metadata_format):\n",
    "    \"\"\"Search the datasets identifiers in the defined set\n",
    "        Parameters\n",
    "        ----------\n",
    "        url : string\n",
    "            OAI-PMH endpoint url\n",
    "        oai_set : string\n",
    "            OAI-PMH set where the datasets will be searched\n",
    "        metadata_format : string\n",
    "            Selected metadata format to search\n",
    "        Returns\n",
    "        -------\n",
    "        dataset_ids : array \n",
    "            Dataset IDs\n",
    "    \"\"\"\n",
    "    #Define bounds to search in specific set\n",
    "    bounds = \"&set=\"+oai_set\n",
    "    oai = requests.get(url+'?verb=ListRecords&metadataPrefix='+metadata_format+bounds)\n",
    "\n",
    "    oaiTree = ET.ElementTree(ET.fromstring(oai.text.encode('utf-8')))\n",
    "    item = oaiTree.findall('.//{http://datacite.org/schema/kernel-3}identifier')\n",
    "    return item"
   ]
  },
  {
   "cell_type": "code",
   "execution_count": 14,
   "metadata": {},
   "outputs": [],
   "source": [
    "def get_oai_metadata_formats(url):\n",
    "    \"\"\"Lists the available metadata formats\n",
    "        Parameters\n",
    "        ----------\n",
    "        url : string\n",
    "            OAI-PMH endpoint url\n",
    "        Returns\n",
    "        -------\n",
    "        metadata_formats : \n",
    "            Name of the downloaded file(s).\n",
    "    \"\"\"\n",
    "    metadata_formats = []\n",
    "    oai_verb = '?verb=ListMetadataFormats'\n",
    "    oai = requests.get(url + oai_verb) #Peticion al servidor\n",
    "    xmlTree = ET.ElementTree(ET.fromstring(oai.text))\n",
    "    iterator = xmlTree.iter()\n",
    "    for elem in iterator:\n",
    "        if (elem.tag == '{http://www.openarchives.org/OAI/2.0/}metadataPrefix'):\n",
    "            metadata_formats.append(elem.text)\n",
    "    return metadata_formats"
   ]
  },
  {
   "cell_type": "markdown",
   "metadata": {},
   "source": [
    "## Completa el código para la búsqueda y descarga de ficheros"
   ]
  },
  {
   "cell_type": "code",
   "execution_count": 44,
   "metadata": {},
   "outputs": [],
   "source": [
    "def check_dataset(ids,api_url,tipo):\n",
    "    \"\"\"Checks if the available datasets satisfy the dates and location req\n",
    "        Parameters\n",
    "        ----------\n",
    "        ids : array\n",
    "            List of dataset ids\n",
    "        api_url : string\n",
    "            API to get dataset metadata\n",
    "        tipo : string\n",
    "            type of file to download\n",
    "        Returns\n",
    "        -------\n",
    "        downloaded_datasets : array \n",
    "            List of downloaded datasets\n",
    "    \"\"\"\n",
    "    list_of_files = []\n",
    "    for i in ids:\n",
    "        print(\"Checking \" + i)\n",
    "        response = requests.get('https://sandbox.zenodo.org/api/records', params={'q': i.split('.')[-1]})\n",
    "        url_to_check = response.json()['hits']['hits'][0]['links']['latest']\n",
    "        headers = {'accept': 'application/json', 'Content-Type': 'application/json'}\n",
    "        metadata = requests.get(url_to_check, headers=headers)\n",
    "        # COMPLETA el código\n",
    "        # Recorre los ficheros (files) presentes en los metadatos\n",
    "        # Comprueba que el fichero está en el formato definido en tipo\n",
    "        # Si está en ese formato, descarga el fichero y guardalo\n",
    "        \n",
    "        # Convertir metadata a un diccionario de python:\n",
    "        archivo = json.loads(metadata.text) \n",
    "        # El nombre del archivo junto con su extensión se encuentra en \"files\", el cual es una lista de diccionarios, recorremos esa lista:\n",
    "        for element in archivo[\"files\"]:\n",
    "            # El nombre.extension se encuentra en \"key\", si el nombre termina en csv/zip, descargar el archivo:\n",
    "            if element[\"key\"].endswith(tipo):\n",
    "                # Print el nombre del archivo:\n",
    "                print(\"Descargando: \", element[\"key\"])\n",
    "                # La url de descarga se encuentra en links-> archive-> (url)\n",
    "                descarga = requests.get(archivo[\"links\"][\"archive\"])\n",
    "                if descarga.status_code == 200:\n",
    "                    # Guardarlo en un archivo.zip local:\n",
    "                    with open(tipo+\".zip\", 'wb') as f:\n",
    "                        f.write(descarga.content)\n",
    "        \n",
    "                \n",
    "                \n",
    "\n",
    "\n",
    "      \n",
    "    return list_of_files"
   ]
  },
  {
   "cell_type": "code",
   "execution_count": null,
   "metadata": {},
   "outputs": [],
   "source": []
  },
  {
   "cell_type": "markdown",
   "metadata": {},
   "source": [
    "Busco el dataset y el código publicado. Si no lo localizas con OAI-PMH, puedes introducir directamente los DOIs."
   ]
  },
  {
   "cell_type": "code",
   "execution_count": 69,
   "metadata": {},
   "outputs": [
    {
     "name": "stdout",
     "output_type": "stream",
     "text": [
      "Searching datasets OAI-PMH\n",
      "Searching Datasets\n",
      "[]\n",
      "Checking/download Datasets\n",
      "Checking 10.5072/zenodo.150045\n",
      "Descargando:  tennis.csv\n",
      "Checking 10.5072/zenodo.161468\n",
      "[]\n",
      "Checking 10.5072/zenodo.150045\n",
      "Checking 10.5072/zenodo.161468\n",
      "Descargando:  bbboyb/DLC-Zenodo-tennis.zip\n",
      "[]\n"
     ]
    }
   ],
   "source": [
    "import sys\n",
    "#Searching datasets OAI-PMH\n",
    "print(\"Searching datasets OAI-PMH\")\n",
    "oai_url = 'https://sandbox.zenodo.org/oai2d'\n",
    "metadata_formats = get_oai_metadata_formats(oai_url)\n",
    "\n",
    "#TODO hardcoded\n",
    "print(\"Searching Datasets\")\n",
    "oai_set = '123454321' # Aquí pon la comunidad\n",
    "dataset_list = search_dataset(oai_url,oai_set,'oai_datacite3')\n",
    "print(dataset_list)\n",
    "\n",
    "print(\"Checking/download Datasets\")\n",
    "api_url = 'https://sandbox.zenodo.org/'\n",
    "\n",
    "dataset_list = [\"10.5072/zenodo.150045\", \"10.5072/zenodo.161468\"] #Esto lo tienes que cambiar ;)\n",
    "\n",
    "csv_files = check_dataset(dataset_list,api_url,'csv')\n",
    "print(csv_files)\n",
    "\n",
    "zip_files = check_dataset(dataset_list,api_url,'zip')\n",
    "print(zip_files)"
   ]
  },
  {
   "cell_type": "markdown",
   "metadata": {},
   "source": [
    "## Descomprime el código, que viene en un zip (tienes que cambiar los nombres)"
   ]
  },
  {
   "cell_type": "code",
   "execution_count": 70,
   "metadata": {},
   "outputs": [],
   "source": [
    "import zipfile\n",
    "import os\n",
    "import shutil\n",
    "# Descomprimir csv\n",
    "with zipfile.ZipFile(\"csv.zip\", 'r') as zip_ref:\n",
    "    zip_ref.extractall(\".\")\n",
    "os.remove(\"csv.zip\")\n",
    "\n",
    "# Descomprimir script, uso shutil porque en sistemas de windows/linux hay que diferenciar \"/\" o \"\\\" para la ruta y los comandos de os.system() pueden ser diferentes\n",
    "with zipfile.ZipFile(\"zip.zip\", 'r') as zip_ref:\n",
    "    zip_ref.extractall(\".\")\n",
    "os.remove(\"zip.zip\")\n",
    "with zipfile.ZipFile(\"./bbboyb/DLC-Zenodo-tennis.zip\", 'r') as zip_ref:\n",
    "    zip_ref.extractall(\".\")\n",
    "shutil.rmtree(\"bbboyb\")\n",
    "shutil.move(\"bbboyb-DLC-Zenodo-0f18bff/tennis-leer.py\", \"./\")\n",
    "shutil.rmtree(\"bbboyb-DLC-Zenodo-0f18bff\")"
   ]
  },
  {
   "cell_type": "markdown",
   "metadata": {},
   "source": [
    "## Haz algo con el dataset, mostrarlo de algún modo.\n",
    "Un chart, una imagen, etc."
   ]
  },
  {
   "cell_type": "code",
   "execution_count": 71,
   "metadata": {},
   "outputs": [
    {
     "data": {
      "image/png": "[encoded data removed]",
      "text/plain": [
       "<Figure size 640x480 with 1 Axes>"
      ]
     },
     "metadata": {},
     "output_type": "display_data"
    }
   ],
   "source": [
    "from PIL import Image\n",
    "import matplotlib.pyplot as plt\n",
    "\n",
    "# Ejecutar script, el script generará un histograma, y lo guardará en formato png.\n",
    "!python tennis-leer.py\n",
    "\n",
    "img = Image.open(\"histograma_play.png\")\n",
    "plt.imshow(img)\n",
    "plt.axis('off') \n",
    "plt.show()"
   ]
  },
  {
   "cell_type": "markdown",
   "metadata": {},
   "source": [
    "# Publicación de los Datos\n",
    "\n",
    "Utilizando la API de Zenodo SandBox, necesitarás un access token que te permita hacer la publicación. Echa un vistazo a la documentación para ver cómo se consigue. Es fácil...\n",
    "Después, modifica este código para crear un nuevo depósito con el resultado generado (una imagen, un dataset derivado, un texto con el print de los datos...)"
   ]
  },
  {
   "cell_type": "code",
   "execution_count": 26,
   "metadata": {},
   "outputs": [
    {
     "name": "stdout",
     "output_type": "stream",
     "text": [
      "200\n"
     ]
    },
    {
     "data": {
      "text/plain": [
       "[]"
      ]
     },
     "execution_count": 26,
     "metadata": {},
     "output_type": "execute_result"
    }
   ],
   "source": [
    "ACCESS_TOKEN = '4e1W8cQY9CAwL9Nppie9N9R1DGfNo5hB1ZUbP67DC84kxBjpUzgiM1MHBMmD'\n",
    "r = requests.get('https://sandbox.zenodo.org/api/deposit/depositions',params={'access_token': ACCESS_TOKEN},json={})\n",
    "print(r.status_code)\n",
    "r.json()"
   ]
  },
  {
   "cell_type": "code",
   "execution_count": 27,
   "metadata": {},
   "outputs": [
    {
     "name": "stdout",
     "output_type": "stream",
     "text": [
      "201\n"
     ]
    },
    {
     "data": {
      "text/plain": [
       "{'created': '2025-02-02T22:54:23.833920+00:00',\n",
       " 'modified': '2025-02-02T22:54:23.894090+00:00',\n",
       " 'id': 161516,\n",
       " 'conceptrecid': '161515',\n",
       " 'metadata': {'access_right': 'open',\n",
       "  'prereserve_doi': {'doi': '10.5281/zenodo.161516', 'recid': 161516}},\n",
       " 'title': '',\n",
       " 'links': {'self': 'https://sandbox.zenodo.org/api/deposit/depositions/161516',\n",
       "  'html': 'https://sandbox.zenodo.org/deposit/161516',\n",
       "  'badge': 'https://sandbox.zenodo.org/badge/doi/.svg',\n",
       "  'files': 'https://sandbox.zenodo.org/api/deposit/depositions/161516/files',\n",
       "  'bucket': 'https://sandbox.zenodo.org/api/files/27112146-7795-41a0-b0e0-df2077317253',\n",
       "  'latest_draft': 'https://sandbox.zenodo.org/api/deposit/depositions/161516',\n",
       "  'latest_draft_html': 'https://sandbox.zenodo.org/deposit/161516',\n",
       "  'publish': 'https://sandbox.zenodo.org/api/deposit/depositions/161516/actions/publish',\n",
       "  'edit': 'https://sandbox.zenodo.org/api/deposit/depositions/161516/actions/edit',\n",
       "  'discard': 'https://sandbox.zenodo.org/api/deposit/depositions/161516/actions/discard',\n",
       "  'newversion': 'https://sandbox.zenodo.org/api/deposit/depositions/161516/actions/newversion',\n",
       "  'registerconceptdoi': 'https://sandbox.zenodo.org/api/deposit/depositions/161516/actions/registerconceptdoi'},\n",
       " 'record_id': 161516,\n",
       " 'owner': 37385,\n",
       " 'files': [],\n",
       " 'state': 'unsubmitted',\n",
       " 'submitted': False}"
      ]
     },
     "execution_count": 27,
     "metadata": {},
     "output_type": "execute_result"
    }
   ],
   "source": [
    "# Crear un depósito vacío\n",
    "r = requests.post('https://sandbox.zenodo.org/api/deposit/depositions',\n",
    "                   params={'access_token': ACCESS_TOKEN},\n",
    "                   json={})\n",
    "print(r.status_code)\n",
    "r.json()"
   ]
  },
  {
   "cell_type": "code",
   "execution_count": 29,
   "metadata": {},
   "outputs": [],
   "source": [
    "# Guardar id\n",
    "deposition_id = r.json()['id']"
   ]
  },
  {
   "cell_type": "markdown",
   "metadata": {},
   "source": [
    "## Publicación\n",
    "En la celda de abajo, tendrás que modificar cosas como el deposition_id (es un id que te dan al hacer el paso anterior, el nombre del fichero...). Echa un vistazo a la documentación, por si falta algo ;)"
   ]
  },
  {
   "cell_type": "code",
   "execution_count": 30,
   "metadata": {},
   "outputs": [
    {
     "data": {
      "text/plain": [
       "{'created': '2025-02-02T22:54:46.374184+00:00',\n",
       " 'updated': '2025-02-02T22:54:46.462307+00:00',\n",
       " 'version_id': '6c5f418f-a10e-43b7-b8f2-e7abb71f8469',\n",
       " 'key': 'histograma_play.png',\n",
       " 'size': 9969,\n",
       " 'mimetype': 'image/png',\n",
       " 'checksum': 'md5:b481c9650e0348773bb0b00014108353',\n",
       " 'is_head': True,\n",
       " 'delete_marker': False,\n",
       " 'links': {'self': 'https://sandbox.zenodo.org/api/files/27112146-7795-41a0-b0e0-df2077317253/histograma_play.png',\n",
       "  'version': 'https://sandbox.zenodo.org/api/files/27112146-7795-41a0-b0e0-df2077317253/histograma_play.png?versionId=6c5f418f-a10e-43b7-b8f2-e7abb71f8469',\n",
       "  'uploads': 'https://sandbox.zenodo.org/api/files/27112146-7795-41a0-b0e0-df2077317253/histograma_play.png?uploads'}}"
      ]
     },
     "execution_count": 30,
     "metadata": {},
     "output_type": "execute_result"
    }
   ],
   "source": [
    "# Aquí he utilizado la api nueva que aparece en la documentación:\n",
    "\n",
    "# Hacer un put request a bucket link\n",
    "bucket_url = r.json()[\"links\"][\"bucket\"]\n",
    "filename = \"histograma_play.png\"\n",
    "path = \"%s\" % filename\n",
    "\n",
    "with open(path, \"rb\") as fp:\n",
    "    r = requests.put(\n",
    "        \"%s/%s\" % (bucket_url, filename),\n",
    "        data=fp,\n",
    "        params={'access_token': ACCESS_TOKEN},\n",
    "    )\n",
    "r.json()"
   ]
  },
  {
   "cell_type": "code",
   "execution_count": 31,
   "metadata": {},
   "outputs": [
    {
     "data": {
      "text/plain": [
       "200"
      ]
     },
     "execution_count": 31,
     "metadata": {},
     "output_type": "execute_result"
    }
   ],
   "source": [
    "# Añadir metadata\n",
    "headers = {\"Content-Type\": \"application/json\"}\n",
    "data = {\n",
    "     'metadata': {\n",
    "         'title': 'Play tennis',\n",
    "         'upload_type': 'image',\n",
    "         'description': 'A histogram for play tennis dataset',\n",
    "         'creators': [{'name': 'kktim',\n",
    "                       'affiliation': 'None'}]\n",
    "     }\n",
    " }\n",
    "r = requests.put('https://sandbox.zenodo.org/api/deposit/depositions/%s' % deposition_id,\n",
    "                  params={'access_token': ACCESS_TOKEN}, data=json.dumps(data),\n",
    "                  headers=headers)\n",
    "r.status_code\n"
   ]
  },
  {
   "cell_type": "code",
   "execution_count": 34,
   "metadata": {},
   "outputs": [
    {
     "data": {
      "text/plain": [
       "202"
      ]
     },
     "execution_count": 34,
     "metadata": {},
     "output_type": "execute_result"
    }
   ],
   "source": [
    "# Publicar\n",
    "r = requests.post('https://sandbox.zenodo.org/api/deposit/depositions/%s/actions/publish' % deposition_id,\n",
    "                      params={'access_token': ACCESS_TOKEN} )\n",
    "r.status_code"
   ]
  },
  {
   "cell_type": "markdown",
   "metadata": {},
   "source": [
    "## DOI final\n",
    "Una vez has publicado el resultado, recibirás un DOI. Muestralo en la última celda:"
   ]
  },
  {
   "cell_type": "code",
   "execution_count": 37,
   "metadata": {},
   "outputs": [
    {
     "data": {
      "text/plain": [
       "'10.5072/zenodo.161516'"
      ]
     },
     "execution_count": 37,
     "metadata": {},
     "output_type": "execute_result"
    }
   ],
   "source": [
    "r.json()[\"doi\"]"
   ]
  }
 ],
 "metadata": {
  "kernelspec": {
   "display_name": "Python 3 (ipykernel)",
   "language": "python",
   "name": "python3"
  },
  "language_info": {
   "codemirror_mode": {
    "name": "ipython",
    "version": 3
   },
   "file_extension": ".py",
   "mimetype": "text/x-python",
   "name": "python",
   "nbconvert_exporter": "python",
   "pygments_lexer": "ipython3",
   "version": "3.12.7"
  }
 },
 "nbformat": 4,
 "nbformat_minor": 4
}
